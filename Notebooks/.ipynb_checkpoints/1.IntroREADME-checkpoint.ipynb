{
 "cells": [
  {
   "cell_type": "markdown",
   "metadata": {},
   "source": [
    "This series of notebooks contain the analyses of a GTseq panel of sockeye salmon. This is the second round of optimization. In an earlier notebook (OptimizationRun1) I detailed the first round of optimization, however notes and analyses were split between evernote and jupyter- Here I am going to (attempt to) outline everything in jupyter"
   ]
  }
 ],
 "metadata": {
  "kernelspec": {
   "display_name": "Python 2",
   "language": "python",
   "name": "python2"
  },
  "language_info": {
   "codemirror_mode": {
    "name": "ipython",
    "version": 2
   },
   "file_extension": ".py",
   "mimetype": "text/x-python",
   "name": "python",
   "nbconvert_exporter": "python",
   "pygments_lexer": "ipython2",
   "version": "2.7.13"
  }
 },
 "nbformat": 4,
 "nbformat_minor": 2
}
