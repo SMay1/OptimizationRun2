{
 "cells": [
  {
   "cell_type": "markdown",
   "metadata": {},
   "source": [
    "In OptRun1 I ran SeqTest last. Here I run it first as it gives an excellent and easy look at overamplifiers and off target primers\n",
    "\n",
    "I am going to use the same inputs (for now) as I originally ran this with- this includes some loci that have since been excluded from the panel.\n",
    "\n",
    "Probes will probably need to be extended"
   ]
  },
  {
   "cell_type": "code",
   "execution_count": 3,
   "metadata": {
    "collapsed": false
   },
   "outputs": [
    {
     "name": "stdout",
     "output_type": "stream",
     "text": [
      "/mnt/hgfs/Ubuntu_Shared/OptimizationRun2\n"
     ]
    }
   ],
   "source": [
    "cd ../"
   ]
  },
  {
   "cell_type": "code",
   "execution_count": 4,
   "metadata": {
    "collapsed": false
   },
   "outputs": [
    {
     "data": {
      "text/plain": [
       "u'/mnt/hgfs/Ubuntu_Shared/OptimizationRun2'"
      ]
     },
     "execution_count": 4,
     "metadata": {},
     "output_type": "execute_result"
    }
   ],
   "source": [
    "pwd"
   ]
  },
  {
   "cell_type": "markdown",
   "metadata": {},
   "source": [
    "Unzipping raw data and moving to new folder:"
   ]
  },
  {
   "cell_type": "code",
   "execution_count": 8,
   "metadata": {
    "collapsed": false
   },
   "outputs": [],
   "source": [
    "!gunzip Data/Raw_Data/*.fastq.gz"
   ]
  },
  {
   "cell_type": "code",
   "execution_count": 10,
   "metadata": {
    "collapsed": false
   },
   "outputs": [],
   "source": [
    "!mv Data/Raw_Data/*.fastq Data/Unzipped_Data"
   ]
  },
  {
   "cell_type": "markdown",
   "metadata": {},
   "source": [
    "File sizes range from 134MB to 21KB at the smallest or 1.2MB at the second smallest... big range"
   ]
  },
  {
   "cell_type": "markdown",
   "metadata": {},
   "source": [
    "Running GTseq Hash script which counts unique sequences in a specific individual\n",
    "\n",
    "Running on the largest individual file: 2012AC22423"
   ]
  },
  {
   "cell_type": "code",
   "execution_count": 11,
   "metadata": {
    "collapsed": false
   },
   "outputs": [
    {
     "name": "stdout",
     "output_type": "stream",
     "text": [
      "/mnt/hgfs/Ubuntu_Shared/OptimizationRun2/Data/Unzipped_Data\n"
     ]
    }
   ],
   "source": [
    "cd Data/Unzipped_Data/"
   ]
  },
  {
   "cell_type": "code",
   "execution_count": 14,
   "metadata": {
    "collapsed": true
   },
   "outputs": [],
   "source": [
    "!perl GTseq_HashSeqs.pl 2012AC22423_S39_L001_R1_001.fastq > 2012AC22423.hash"
   ]
  },
  {
   "cell_type": "code",
   "execution_count": 18,
   "metadata": {
    "collapsed": false
   },
   "outputs": [
    {
     "name": "stdout",
     "output_type": "stream",
     "text": [
      "/mnt/hgfs/Ubuntu_Shared/OptimizationRun2/Data/Hash_Results\n"
     ]
    }
   ],
   "source": [
    "cd ../Hash_Results/"
   ]
  },
  {
   "cell_type": "code",
   "execution_count": 19,
   "metadata": {
    "collapsed": true
   },
   "outputs": [],
   "source": [
    "!perl GTseq_SeqTest.pl SeqTest_FWD_Input.txt 2012AC22423.hash > 2012AC22423_SeqTest_Output.txt"
   ]
  },
  {
   "cell_type": "markdown",
   "metadata": {},
   "source": [
    "read depth looks very even across loci, maximum of like 9000, no serious overamps. \n",
    "\n",
    "Going to need to extend the probe for some definitely\n",
    "\n",
    "time to genotype and make allele ratio plots"
   ]
  }
 ],
 "metadata": {
  "kernelspec": {
   "display_name": "Python 2",
   "language": "python",
   "name": "python2"
  },
  "language_info": {
   "codemirror_mode": {
    "name": "ipython",
    "version": 2
   },
   "file_extension": ".py",
   "mimetype": "text/x-python",
   "name": "python",
   "nbconvert_exporter": "python",
   "pygments_lexer": "ipython2",
   "version": "2.7.13"
  }
 },
 "nbformat": 4,
 "nbformat_minor": 2
}
