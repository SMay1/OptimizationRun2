{
 "cells": [
  {
   "cell_type": "markdown",
   "metadata": {},
   "source": [
    "In OptRun1 I ran SeqTest last. Here I run it first as it gives an excellent look at overamplifiers\n",
    "\n",
    "I am going to use the same inputs (for now) as I originally ran this with- this includes some loci that have since been excluded from the panel.\n",
    "\n",
    "Probes will probably need to be extended"
   ]
  },
  {
   "cell_type": "code",
   "execution_count": 2,
   "metadata": {
    "collapsed": false
   },
   "outputs": [
    {
     "data": {
      "text/plain": [
       "u'/mnt/hgfs/Ubuntu_Shared/OptimizationRun2/Notebooks'"
      ]
     },
     "execution_count": 2,
     "metadata": {},
     "output_type": "execute_result"
    }
   ],
   "source": [
    "pwd"
   ]
  }
 ],
 "metadata": {
  "kernelspec": {
   "display_name": "Python 2",
   "language": "python",
   "name": "python2"
  },
  "language_info": {
   "codemirror_mode": {
    "name": "ipython",
    "version": 2
   },
   "file_extension": ".py",
   "mimetype": "text/x-python",
   "name": "python",
   "nbconvert_exporter": "python",
   "pygments_lexer": "ipython2",
   "version": "2.7.13"
  }
 },
 "nbformat": 4,
 "nbformat_minor": 2
}
